{
 "cells": [
  {
   "cell_type": "code",
   "execution_count": null,
   "metadata": {},
   "outputs": [],
   "source": [
    "import json\n",
    "import time\n",
    "from requests import get, post\n",
    "\n",
    "# Endpoint URL\n",
    "endpoint = r\"https://<resourcename>.cognitiveservices.azure.com/\"\n",
    "\n",
    "#Source to the training data inside azure storage account i.e blob container\n",
    "source = r\"https://formrecognizestore.blob.core.windows.net/<containername>?<**********>&sig=<**********>\n",
    "#subfolder name\n",
    "prefix = \"formblob\"\n",
    "#subfolder set to True\n",
    "includeSubFolders = True\n",
    "#Train custom form with labels \n",
    "useLabelFile = False\n",
    "\n",
    "headers = {\n",
    "    # Request headers\n",
    "    'Content-Type': 'application/json',\n",
    "    'Ocp-Apim-Subscription-Key': '<******************>',\n",
    "}\n",
    "\n",
    "body =     {\n",
    "    \"source\": source,\n",
    "    \"sourceFilter\": {\n",
    "        \"prefix\": prefix,\n",
    "        \"includeSubFolders\": includeSubFolders\n",
    "    },\n",
    "    \"useLabelFile\": useLabelFile\n",
    "}\n",
    "#Request URI- https://{endpoint}/formrecognizer/v2.1-preview.2/custom/models\n",
    "post_url = endpoint + r\"/formrecognizer/v2.1-preview.2/custom/models\"\n",
    "try:\n",
    "    resp = post(url = post_url, json = body, headers = headers)\n",
    "    if resp.status_code != 201:\n",
    "        print(\"POST model failed (%s):\\n%s\" % (resp.status_code, json.dumps(resp.json())))\n",
    "        quit()\n",
    "    print(\"POST model succeeded:\\n%s\" % resp.headers)\n",
    "    get_url = resp.headers[\"location\"]\n",
    "except Exception as e:\n",
    "    print(\"POST model failed:\\n%s\" % str(e)) #Printing the error message\n",
    "    quit() "
   ]
  },
  {
   "cell_type": "code",
   "execution_count": null,
   "metadata": {},
   "outputs": [],
   "source": [
    "try:\n",
    "    resp = get(url = get_url, headers = headers)\n",
    "    resp_json = resp.json()\n",
    "    if resp.status_code != 200:\n",
    "        print(\"GET model failed (%s):\\n%s\" % (resp.status_code, json.dumps(resp_json)))\n",
    "        quit()\n",
    "    model_status = resp_json[\"modelInfo\"][\"status\"]\n",
    "    if model_status == \"ready\":\n",
    "        print(\"Training succeeded:\\n%s\" % json.dumps(resp_json))\n",
    "        \n",
    "    if model_status == \"invalid\":\n",
    "        print(\"Training failed. Model is invalid:\\n%s\" % json.dumps(resp_json))\n",
    "        quit()\n",
    "        # Training still running. Wait and retry.\n",
    "        #time.sleep(wait_sec)\n",
    "        #n_try += 1\n",
    "        #wait_sec = min(2*wait_sec, max_wait_sec)     \n",
    "except Exception as e:\n",
    "    msg = \"GET model failed:\\n%s\" % str(e)\n",
    "    print(msg)\n",
    "    quit()"
   ]
  }
 ],
 "metadata": {
  "kernelspec": {
   "display_name": "Python 3",
   "language": "python",
   "name": "python3"
  },
  "language_info": {
   "codemirror_mode": {
    "name": "ipython",
    "version": 3
   },
   "file_extension": ".py",
   "mimetype": "text/x-python",
   "name": "python",
   "nbconvert_exporter": "python",
   "pygments_lexer": "ipython3",
   "version": "3.7.3"
  }
 },
 "nbformat": 4,
 "nbformat_minor": 2
}
