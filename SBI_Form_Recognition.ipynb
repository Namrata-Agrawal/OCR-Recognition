{
 "cells": [
  {
   "cell_type": "code",
   "execution_count": null,
   "metadata": {},
   "outputs": [],
   "source": [
    "import json\n",
    "import time\n",
    "from requests import get, post\n",
    "\n",
    "# Endpoint URL\n",
    "endpoint = r\"https://<**recognizer***>.cognitiveservices.azure.com/\"\n",
    "apim_key = \"******************\"\n",
    "\n",
    "model_id = \"*****************\"\n",
    "post_url = endpoint + \"/formrecognizer/v2.1-preview.2/layout/analyze\"\n",
    "source = r\"C:/Users/Namrata/OneDrive/Desktop/sbi_forms/sbi_form_4.png\"\n",
    "params = {\n",
    "    \"language\": \"en\"\n",
    "    \"pages\": 1,\n",
    "}\n",
    "\n",
    "headers = {\n",
    "    # Request headers\n",
    "    'Content-Type': 'image/png',\n",
    "    'Ocp-Apim-Subscription-Key': apim_key,\n",
    "}\n",
    "with open(source, \"rb\") as f:\n",
    "    data_bytes = f.read()\n",
    "\n",
    "try:\n",
    "    resp = post(url = post_url, data = data_bytes, headers = headers, params = params)\n",
    "    if resp.status_code != 202:\n",
    "        print(\"POST analyze failed:\\n%s\" % json.dumps(resp.json()))\n",
    "        quit()\n",
    "    print(\"POST analyze succeeded:\\n%s\" % resp.headers)\n",
    "    get_url = resp.headers[\"Operation-Location\"]\n",
    "    print(get_url)\n",
    "except Exception as e:\n",
    "    print(\"POST analyze failed:\\n%s\" % str(e))\n",
    "    quit() \n",
    "    "
   ]
  },
  {
   "cell_type": "code",
   "execution_count": null,
   "metadata": {},
   "outputs": [],
   "source": [
    "\n",
    "import pandas as pd\n",
    "try:\n",
    "    resp = get(url = get_url, headers = {\"Ocp-Apim-Subscription-Key\": apim_key})\n",
    "    resp_json = resp.json()\n",
    "    \n",
    "    if resp.status_code != 200:\n",
    "        print(\"GET analyze results failed:\\n%s\" % json.dumps(resp_json))\n",
    "        quit()\n",
    "    status = resp_json[\"status\"]\n",
    "    if status == \"succeeded\":\n",
    "        \n",
    "        print(\"Analysis succeeded:\\n%s\" % json.dumps(resp_json))\n",
    "         \n",
    "    if status == \"failed\":\n",
    "        print(\"Analysis failed:\\n%s\" % json.dumps(resp_json))\n",
    "        quit()\n",
    "        # Analysis still running. Wait and retry.\n",
    "    #time.sleep(wait_sec)\n",
    "    #n_try += 1\n",
    "    #wait_sec = min(2*wait_sec, max_wait_sec)     \n",
    "except Exception as e:\n",
    "    msg = \"GET analyze results failed:\\n%s\" % str(e)\n",
    "    print(msg)\n",
    "    \n",
    "\n"
   ]
  }
 ],
 "metadata": {
  "kernelspec": {
   "display_name": "Python 3",
   "language": "python",
   "name": "python3"
  },
  "language_info": {
   "codemirror_mode": {
    "name": "ipython",
    "version": 3
   },
   "file_extension": ".py",
   "mimetype": "text/x-python",
   "name": "python",
   "nbconvert_exporter": "python",
   "pygments_lexer": "ipython3",
   "version": "3.7.3"
  }
 },
 "nbformat": 4,
 "nbformat_minor": 2
}
